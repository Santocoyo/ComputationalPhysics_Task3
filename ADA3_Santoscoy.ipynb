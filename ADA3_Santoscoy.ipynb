{
 "cells": [
  {
   "cell_type": "code",
   "execution_count": 1,
   "id": "dd394408",
   "metadata": {},
   "outputs": [],
   "source": [
    "using Plots\n",
    "using DelimitedFiles\n",
    "using Random\n",
    "using LinearAlgebra"
   ]
  },
  {
   "cell_type": "code",
   "execution_count": 2,
   "id": "5cf2ce58",
   "metadata": {},
   "outputs": [
    {
     "data": {
      "text/plain": [
       "X0 (generic function with 1 method)"
      ]
     },
     "execution_count": 2,
     "metadata": {},
     "output_type": "execute_result"
    }
   ],
   "source": [
    "function X0(m, bL, bU)\n",
    "    if length(bL) == length(bU)\n",
    "        # Número de parametros\n",
    "        n = length(bL)\n",
    "        # Inicializando la población\n",
    "        Xr = zeros(m, n)\n",
    "        # Añadiendo la informaciónd de cada individuo\n",
    "        for i in 1:m\n",
    "            Xr[i,:] = rand(n) .* (bU - bL) + bL\n",
    "        end\n",
    "    else\n",
    "        println(\"No coincide el tamaño de los límites inferior y superior de los parametros\")\n",
    "    end\n",
    "    return Xr\n",
    "end"
   ]
  },
  {
   "cell_type": "code",
   "execution_count": 3,
   "id": "16ce6f4e",
   "metadata": {},
   "outputs": [
    {
     "data": {
      "text/plain": [
       "Vmut (generic function with 1 method)"
      ]
     },
     "execution_count": 3,
     "metadata": {},
     "output_type": "execute_result"
    }
   ],
   "source": [
    "function Vmut(X, F, bL, bU, var)\n",
    "    m, n = size(X)\n",
    "    M = zeros(m, n)\n",
    "    rnd = zeros(m, n)\n",
    "\n",
    "    if var in [\"d\",\"D\"]\n",
    "        rnd .= rand(m)\n",
    "    elseif var in [\"j\",\"J\"]\n",
    "        rnd = rand(m, n)\n",
    "    end\n",
    "\n",
    "    for i in 1:m\n",
    "        r = shuffle(1:m)[1:3]\n",
    "        M[i,:] = @. X[r[1],:] + F * rnd[i,:] * (X[r[2],:] - X[r[3],:])\n",
    "        \n",
    "        indices = abs.(M[i,:] - (bL + bU) ./ 2) .> (bU - bL) ./ 2\n",
    "        M[i, indices] = bL[indices] + (bU[indices] - bL[indices]) .* rand(length(M[i,indices]))\n",
    "    end\n",
    "    return M\n",
    "end"
   ]
  },
  {
   "cell_type": "code",
   "execution_count": 4,
   "id": "ac8d9e10",
   "metadata": {},
   "outputs": [
    {
     "data": {
      "text/plain": [
       "Cross (generic function with 1 method)"
      ]
     },
     "execution_count": 4,
     "metadata": {},
     "output_type": "execute_result"
    }
   ],
   "source": [
    "function Cross(X, M, Cr)\n",
    "    # Verificación\n",
    "    if size(X) == size(M) && abs(Cr - 0.5) <= 0.5\n",
    "        # Tamaño de las matrices\n",
    "        m, n = size(X)\n",
    "        U = zeros(m,n)\n",
    "        rnd = rand(m, n)\n",
    "        rndi = rand(1:n, m, n) \n",
    "        indexes = (1:n)' .* ones(m)\n",
    "        # Matriz logica en donde se cumple la condicion 1\n",
    "        cond1 = rnd .<= Cr\n",
    "        # Matriz logica en donde se cumple la condicion 2\n",
    "        cond2 = indexes .== rndi\n",
    "        # Aplicando el operador \"or\" para cambiar los elementos que cumplen al menos una condicion\n",
    "        U[cond1 .| cond2] = M[cond1 .| cond2]\n",
    "        U[.~(cond1 .| cond2)] = X[.~(cond1 .| cond2)]\n",
    "        return U\n",
    "\n",
    "    elseif size(X) != size(M)\n",
    "        println(\"La matriz de mutación y la de población inicial deben de tener el mismo tamaño\")\n",
    "\n",
    "    elseif abs(Cr - 0.5) > 0.5\n",
    "        println(\"Cr debe ser un numero entre 0 y 1\")\n",
    "        \n",
    "    end\n",
    "end"
   ]
  },
  {
   "cell_type": "code",
   "execution_count": 5,
   "id": "c6f902a7",
   "metadata": {},
   "outputs": [
    {
     "data": {
      "text/plain": [
       "Selection (generic function with 1 method)"
      ]
     },
     "execution_count": 5,
     "metadata": {},
     "output_type": "execute_result"
    }
   ],
   "source": [
    "function Selection(Fobj, X, U, caso)\n",
    "    if size(X) == size(U)\n",
    "        m, n = size(X)\n",
    "        S = X\n",
    "        # Creando donde guardar las funciones evaluadas en las poblaciones\n",
    "        Fi = zeros(m) # Evaluada en la poblacion inicial\n",
    "        Fc = zeros(m) # Evaluada en la poblacion cruzada\n",
    "        # Evaluando la poblacion inicial y la cruzada en la función\n",
    "        for i in 1:m\n",
    "            Fi[i] = Fobj(X[i,:])\n",
    "            Fc[i] = Fobj(U[i,:])\n",
    "        end\n",
    "        # Creando las mascaras\n",
    "        if caso == \"min\"\n",
    "            indice = Fc .< Fi\n",
    "        elseif caso == \"max\"\n",
    "            indice = Fc .> F\n",
    "        end\n",
    "        # Aplicando los cambios de acuerdo a las mascaras\n",
    "        S[indice,:] = U[indice,:]\n",
    "        return S\n",
    "\n",
    "    elseif size(X) != size(U)\n",
    "        println(\"La matriz de población inicial y la cruzada no tienen el mismo tamaño\")\n",
    "        \n",
    "    end\n",
    "end"
   ]
  },
  {
   "cell_type": "code",
   "execution_count": 6,
   "id": "46903352",
   "metadata": {},
   "outputs": [
    {
     "data": {
      "text/plain": [
       "Best (generic function with 1 method)"
      ]
     },
     "execution_count": 6,
     "metadata": {},
     "output_type": "execute_result"
    }
   ],
   "source": [
    "function Best(fob, X, caso)\n",
    "    m, n = size(X)\n",
    "    t = zeros(m)\n",
    "    for i in 1:m\n",
    "        t[i] = fob(X[i,:])\n",
    "    end\n",
    "    if caso == \"min\"\n",
    "        g = min(t...)\n",
    "        \n",
    "    elseif caso == \"max\"\n",
    "        g = max(t...)\n",
    "    end\n",
    "    indices = X[t .== g,:][1,:]\n",
    "    return g, indices\n",
    "end"
   ]
  },
  {
   "cell_type": "markdown",
   "id": "92e592a4",
   "metadata": {},
   "source": [
    "# Cosine Mixture function"
   ]
  },
  {
   "cell_type": "code",
   "execution_count": 7,
   "id": "f5dd7f4d",
   "metadata": {},
   "outputs": [
    {
     "data": {
      "text/plain": [
       "Fobj1 (generic function with 1 method)"
      ]
     },
     "execution_count": 7,
     "metadata": {},
     "output_type": "execute_result"
    }
   ],
   "source": [
    "function Fobj1(X)\n",
    "    return dot(X,X) - 0.1*sum(cos.(5*pi.*X))\n",
    "end"
   ]
  },
  {
   "cell_type": "code",
   "execution_count": 8,
   "id": "85e40b34",
   "metadata": {},
   "outputs": [
    {
     "data": {
      "text/plain": [
       "0.3"
      ]
     },
     "execution_count": 8,
     "metadata": {},
     "output_type": "execute_result"
    }
   ],
   "source": [
    "#Poniendo los datos\n",
    "#Gerneraciones e individuos\n",
    "batch_size = 1000\n",
    "#Dimensionalidad\n",
    "D = 30\n",
    "#Límites de los parametros\n",
    "bL = -1 .*ones(D)\n",
    "bU = ones(D)\n",
    "\n",
    "value = -0.1*D\n",
    "error = 0.00001\n",
    "#Argumentos de mutacion y cruza\n",
    "F = 1.5\n",
    "Cr = 0.3"
   ]
  },
  {
   "cell_type": "code",
   "execution_count": 9,
   "id": "7c0c5bca",
   "metadata": {},
   "outputs": [
    {
     "name": "stdout",
     "output_type": "stream",
     "text": [
      "Iter: 538, value: -2.999990559934581, error: 9.440065419141774e-6\n"
     ]
    },
    {
     "data": {
      "text/plain": [
       "(-2.999990559934581, [1.39654e-6, -0.000183439, 6.83913e-5, 9.8216e-5, -0.000188542, 5.01192e-5, 8.91654e-5, -1.62338e-5, -0.000119132, 1.63876e-6  …  0.000264053, 0.000444061, -7.99051e-5, 8.59781e-5, -0.000150445, -0.000163526, -2.67669e-5, -3.38451e-5, 0.000253995, 3.61592e-5])"
      ]
     },
     "execution_count": 9,
     "metadata": {},
     "output_type": "execute_result"
    }
   ],
   "source": [
    "initial = X0(batch_size, bL, bU)\n",
    "i = 1\n",
    "while true\n",
    "    mutation = Vmut(initial,F,bL,bU,\"d\")\n",
    "    crossed = Cross(initial,mutation,Cr)\n",
    "    chosen = Selection(Fobj1,initial,crossed,\"min\")\n",
    "    minimum, batch = Best(Fobj1, initial, \"min\")\n",
    "    IJulia.clear_output(true)\n",
    "    println(\"Iter: $i, value: $minimum, error: $(abs(minimum - value))\")\n",
    "    i = i+1\n",
    "    if abs(minimum - value) <= error\n",
    "        return minimum, batch\n",
    "        break\n",
    "    end\n",
    "end\n"
   ]
  },
  {
   "cell_type": "markdown",
   "id": "94c24544",
   "metadata": {},
   "source": [
    "Valor de $-2.999992427252088$ con error de $7.572747911854805 \\times 10^{-6}$"
   ]
  },
  {
   "cell_type": "markdown",
   "id": "bcd8f818",
   "metadata": {},
   "source": [
    "# Griewank function"
   ]
  },
  {
   "cell_type": "code",
   "execution_count": 10,
   "id": "f6f638fd",
   "metadata": {},
   "outputs": [
    {
     "data": {
      "text/plain": [
       "Fobj2 (generic function with 1 method)"
      ]
     },
     "execution_count": 10,
     "metadata": {},
     "output_type": "execute_result"
    }
   ],
   "source": [
    "function Fobj2(X)\n",
    "    product = 1\n",
    "    for i in 1:length(X)\n",
    "        product = product * cos(X[i]/sqrt(i))\n",
    "    end    \n",
    "    return 1 + dot(X,X)/4000 - product\n",
    "end"
   ]
  },
  {
   "cell_type": "code",
   "execution_count": 11,
   "id": "290a40ad",
   "metadata": {},
   "outputs": [
    {
     "data": {
      "text/plain": [
       "0.3"
      ]
     },
     "execution_count": 11,
     "metadata": {},
     "output_type": "execute_result"
    }
   ],
   "source": [
    "#Poniendo los datos\n",
    "#Gerneraciones e individuos\n",
    "batch_size = 1000\n",
    "#Dimensionalidad\n",
    "D = 30\n",
    "#Límites de los parametros\n",
    "bL = -600 .*ones(D)\n",
    "bU = 600 .*ones(D)\n",
    "\n",
    "value = 0\n",
    "error = 0.00001\n",
    "#Argumentos de mutacion y cruza\n",
    "F = 1.5\n",
    "Cr = 0.3"
   ]
  },
  {
   "cell_type": "code",
   "execution_count": 12,
   "id": "2a156911",
   "metadata": {},
   "outputs": [
    {
     "name": "stdout",
     "output_type": "stream",
     "text": [
      "Iter: 855, value: 8.738938098495908e-6, error: 8.738938098495908e-6\n"
     ]
    },
    {
     "data": {
      "text/plain": [
       "(8.738938098495908e-6, [0.00105354, 0.0002389, -0.00128572, 0.0008805, -0.00246191, -0.00124519, -0.000821625, 0.000158104, 0.0014608, -0.000546081  …  -0.00697119, 0.005857, 0.0059488, 0.0031875, 0.00139886, 0.00130187, 0.000695671, 0.00188923, 0.00808289, 0.000844055])"
      ]
     },
     "execution_count": 12,
     "metadata": {},
     "output_type": "execute_result"
    }
   ],
   "source": [
    "initial = X0(batch_size, bL, bU)\n",
    "i = 1\n",
    "while true\n",
    "    mutation = Vmut(initial,F,bL,bU,\"d\")\n",
    "    crossed = Cross(initial,mutation,Cr)\n",
    "    chosen = Selection(Fobj2,initial,crossed,\"min\")\n",
    "    minimum, batch = Best(Fobj2, initial, \"min\")\n",
    "    IJulia.clear_output(true)\n",
    "    println(\"Iter: $i, value: $minimum, error: $(abs(minimum - value))\")\n",
    "    i = i+1\n",
    "    if abs(minimum - value) <= error\n",
    "        return minimum, batch\n",
    "        break\n",
    "    end\n",
    "end\n"
   ]
  },
  {
   "cell_type": "markdown",
   "id": "7454f35c",
   "metadata": {},
   "source": [
    "Valor de $9.083586132274668 \\times 10^{-6}$ con error de $9.083586132274668 \\times 10^{-6}$"
   ]
  },
  {
   "cell_type": "markdown",
   "id": "300948fc",
   "metadata": {},
   "source": [
    "# Inverted cosine wave function"
   ]
  },
  {
   "cell_type": "code",
   "execution_count": 13,
   "id": "4c8b789c",
   "metadata": {},
   "outputs": [
    {
     "data": {
      "text/plain": [
       "Fobj3 (generic function with 1 method)"
      ]
     },
     "execution_count": 13,
     "metadata": {},
     "output_type": "execute_result"
    }
   ],
   "source": [
    "function Fobj3(X)\n",
    "    result = 0\n",
    "    for i in 1:length(X)-1\n",
    "        result = result - exp(-(X[i]^2 + X[i+1]^2 + 0.5*X[i]*X[i+1])/8)*cos(4*sqrt(X[i]^2 + X[i+1]^2 + 0.5*X[i]*X[i+1]))\n",
    "    end    \n",
    "    return result\n",
    "end"
   ]
  },
  {
   "cell_type": "code",
   "execution_count": 15,
   "id": "86f0d047",
   "metadata": {},
   "outputs": [
    {
     "data": {
      "text/plain": [
       "0.3"
      ]
     },
     "execution_count": 15,
     "metadata": {},
     "output_type": "execute_result"
    }
   ],
   "source": [
    "#Poniendo los datos\n",
    "#Gerneraciones e individuos\n",
    "batch_size = 1000\n",
    "#Dimensionalidad\n",
    "D = 10\n",
    "#Límites de los parametros\n",
    "bL = -5 .*ones(D)\n",
    "bU = 5 .*ones(D)\n",
    "value = 1 - D\n",
    "error = 0.00001\n",
    "#Argumentos de mutacion y cruza\n",
    "F = 1.5\n",
    "Cr = 0.3"
   ]
  },
  {
   "cell_type": "code",
   "execution_count": 16,
   "id": "4c74433b",
   "metadata": {},
   "outputs": [
    {
     "name": "stdout",
     "output_type": "stream",
     "text": [
      "Iter: 1110, value: -8.999991812885337, error: 8.187114662661088e-6\n"
     ]
    },
    {
     "data": {
      "text/plain": [
       "(-8.999991812885337, [0.000222353, 3.04546e-5, -0.000281455, 0.000346211, -0.000123961, 0.000446228, 0.000211017, 0.000130815, 3.9249e-5, 0.000185738])"
      ]
     },
     "execution_count": 16,
     "metadata": {},
     "output_type": "execute_result"
    }
   ],
   "source": [
    "initial = X0(batch_size, bL, bU)\n",
    "i = 1\n",
    "while true\n",
    "    mutation = Vmut(initial,F,bL,bU,\"d\")\n",
    "    crossed = Cross(initial,mutation,Cr)\n",
    "    chosen = Selection(Fobj3,initial,crossed,\"min\")\n",
    "    minimum, batch = Best(Fobj3, initial, \"min\")\n",
    "    IJulia.clear_output(true)\n",
    "    println(\"Iter: $i, value: $minimum, error: $(abs(minimum - value))\")\n",
    "    i = i+1\n",
    "    if abs(minimum - value) <= error\n",
    "        return minimum, batch\n",
    "        break\n",
    "    end\n",
    "end"
   ]
  },
  {
   "cell_type": "markdown",
   "id": "163d595a",
   "metadata": {},
   "source": [
    "Valor de $-8.999991812885337$ con error de $8.187114662661088 \\times 10^{-6}$"
   ]
  },
  {
   "cell_type": "markdown",
   "id": "49b9e463",
   "metadata": {},
   "source": [
    "# Michalewicz function"
   ]
  },
  {
   "cell_type": "code",
   "execution_count": 27,
   "id": "0d27348d",
   "metadata": {},
   "outputs": [
    {
     "data": {
      "text/plain": [
       "Fobj4 (generic function with 1 method)"
      ]
     },
     "execution_count": 27,
     "metadata": {},
     "output_type": "execute_result"
    }
   ],
   "source": [
    "function Fobj4(X)\n",
    "    A = 1:length(X)\n",
    "    return -sum(@.(sin(X)*sin(A .*(X.^2) / pi)^20))\n",
    "end"
   ]
  },
  {
   "cell_type": "code",
   "execution_count": 28,
   "id": "201cd542",
   "metadata": {},
   "outputs": [
    {
     "data": {
      "text/plain": [
       "0.3"
      ]
     },
     "execution_count": 28,
     "metadata": {},
     "output_type": "execute_result"
    }
   ],
   "source": [
    "batch_size = 1000\n",
    "\n",
    "D = 10\n",
    "\n",
    "bL = 0 .*ones(D)\n",
    "bU = pi .*ones(D)\n",
    "\n",
    "value = -9.660151715641\n",
    "error = 0.00001\n",
    "\n",
    "F = 1.5\n",
    "Cr = 0.3"
   ]
  },
  {
   "cell_type": "code",
   "execution_count": 29,
   "id": "e830f379",
   "metadata": {},
   "outputs": [
    {
     "name": "stdout",
     "output_type": "stream",
     "text": [
      "Iter: 371, value: -9.660142805687322, error: 8.909953677971316e-6\n"
     ]
    },
    {
     "data": {
      "text/plain": [
       "(-9.660142805687322, [2.20288, 1.57069, 1.28503, 1.92312, 1.72053, 1.5708, 1.45432, 1.75609, 1.65575, 1.57076])"
      ]
     },
     "execution_count": 29,
     "metadata": {},
     "output_type": "execute_result"
    }
   ],
   "source": [
    "initial = X0(batch_size, bL, bU)\n",
    "i = 1\n",
    "while true\n",
    "    mutation = Vmut(initial,F,bL,bU,\"d\")\n",
    "    crossed = Cross(initial,mutation,Cr)\n",
    "    chosen = Selection(Fobj4,initial,crossed,\"min\")\n",
    "    minimum, batch = Best(Fobj4, initial, \"min\")\n",
    "    IJulia.clear_output(true)\n",
    "    println(\"Iter: $i, value: $minimum, error: $(abs(minimum - value))\")\n",
    "    i = i+1\n",
    "    if abs(minimum - value) <= error\n",
    "        return minimum, batch\n",
    "        break\n",
    "    end\n",
    "end"
   ]
  },
  {
   "cell_type": "markdown",
   "id": "2910ed84",
   "metadata": {},
   "source": [
    "Valor de $-9.660142805687322$ con error de $8.909953677971316 \\times 10^{-6}$"
   ]
  },
  {
   "cell_type": "markdown",
   "id": "5809d5f2",
   "metadata": {},
   "source": [
    "# Rastrigin function"
   ]
  },
  {
   "cell_type": "code",
   "execution_count": 30,
   "id": "73af70eb",
   "metadata": {},
   "outputs": [
    {
     "data": {
      "text/plain": [
       "Fobj5 (generic function with 1 method)"
      ]
     },
     "execution_count": 30,
     "metadata": {},
     "output_type": "execute_result"
    }
   ],
   "source": [
    "function Fobj5(X)\n",
    "    return 10*D + dot(X,X) - 10*sum(cos.(2*pi.*X))\n",
    "end"
   ]
  },
  {
   "cell_type": "code",
   "execution_count": 31,
   "id": "fdec699b",
   "metadata": {},
   "outputs": [
    {
     "data": {
      "text/plain": [
       "0.3"
      ]
     },
     "execution_count": 31,
     "metadata": {},
     "output_type": "execute_result"
    }
   ],
   "source": [
    "batch_size = 1000\n",
    "\n",
    "D = 30\n",
    "\n",
    "bL = -5.12 .*ones(D)\n",
    "bU = 5.12 .*ones(D)\n",
    "\n",
    "value = 0\n",
    "error = 0.00001\n",
    "\n",
    "F = 1.5\n",
    "Cr = 0.3"
   ]
  },
  {
   "cell_type": "code",
   "execution_count": 32,
   "id": "bc2ba6f1",
   "metadata": {},
   "outputs": [
    {
     "name": "stdout",
     "output_type": "stream",
     "text": [
      "Iter: 1736, value: 9.432414287857682e-6, error: 9.432414287857682e-6\n"
     ]
    },
    {
     "data": {
      "text/plain": [
       "(9.432414287857682e-6, [8.31847e-5, -5.07014e-5, 1.35595e-5, -6.56824e-5, -7.59348e-5, -5.54265e-5, -2.2288e-5, 6.57205e-5, 4.09393e-6, 4.84393e-5  …  3.93551e-5, 3.0389e-5, -3.47522e-5, 3.40505e-5, 1.78892e-5, 5.05835e-6, 5.17799e-6, 4.91575e-5, -2.45456e-5, -2.81089e-5])"
      ]
     },
     "execution_count": 32,
     "metadata": {},
     "output_type": "execute_result"
    }
   ],
   "source": [
    "initial = X0(batch_size, bL, bU)\n",
    "i = 1\n",
    "while true\n",
    "    mutation = Vmut(initial,F,bL,bU,\"d\")\n",
    "    crossed = Cross(initial,mutation,Cr)\n",
    "    chosen = Selection(Fobj5,initial,crossed,\"min\")\n",
    "    minimum, batch = Best(Fobj5, initial, \"min\")\n",
    "    IJulia.clear_output(true)\n",
    "    println(\"Iter: $i, value: $minimum, error: $(abs(minimum - value))\")\n",
    "    i = i+1\n",
    "    if abs(minimum - value) <= error\n",
    "        return minimum, batch\n",
    "        break\n",
    "    end\n",
    "end"
   ]
  },
  {
   "cell_type": "markdown",
   "id": "d91b8207",
   "metadata": {},
   "source": [
    "Valor de $9.432414287857682 \\times 10^{-6}$ con error de $9.432414287857682 \\times 10^{-6}$"
   ]
  },
  {
   "cell_type": "markdown",
   "id": "b6d57c3b",
   "metadata": {},
   "source": [
    "# Rosenbrock function"
   ]
  },
  {
   "cell_type": "code",
   "execution_count": 33,
   "id": "dff39e77",
   "metadata": {},
   "outputs": [
    {
     "data": {
      "text/plain": [
       "Fobj6 (generic function with 1 method)"
      ]
     },
     "execution_count": 33,
     "metadata": {},
     "output_type": "execute_result"
    }
   ],
   "source": [
    "function Fobj6(X)\n",
    "    suma = 0\n",
    "    for i in i:length(X)-1\n",
    "        suma = suma + (X[i]-1)^2 + 100*(X[i+1]-X[i]^2)^2\n",
    "    end\n",
    "    return suma\n",
    "end"
   ]
  },
  {
   "cell_type": "code",
   "execution_count": 34,
   "id": "aa06d688",
   "metadata": {},
   "outputs": [
    {
     "data": {
      "text/plain": [
       "0.3"
      ]
     },
     "execution_count": 34,
     "metadata": {},
     "output_type": "execute_result"
    }
   ],
   "source": [
    "batch_size = 1000\n",
    "\n",
    "D = 30\n",
    "\n",
    "bL = -30 .*ones(D)\n",
    "bU = 30 .*ones(D)\n",
    "\n",
    "value = 0\n",
    "error = 0.01\n",
    "\n",
    "F = 1.5\n",
    "Cr = 0.3"
   ]
  },
  {
   "cell_type": "code",
   "execution_count": 36,
   "id": "d595f63b",
   "metadata": {},
   "outputs": [
    {
     "name": "stdout",
     "output_type": "stream",
     "text": [
      "Iter: 30, value: 0.0, error: 0.0\n"
     ]
    },
    {
     "data": {
      "text/plain": [
       "(0.0, [-10.9094, -17.6329, 7.05599, 15.3731, 3.86197, -7.78909, 14.114, -19.4517, 3.51635, 22.192  …  -7.16919, -6.13115, 7.2436, 12.0927, 7.39719, -2.1563, -3.62979, 2.69906, -3.5985, 7.0688])"
      ]
     },
     "execution_count": 36,
     "metadata": {},
     "output_type": "execute_result"
    }
   ],
   "source": [
    "initial = X0(batch_size, bL, bU)\n",
    "i = 1\n",
    "while true\n",
    "    mutation = Vmut(initial,F,bL,bU,\"d\")\n",
    "    crossed = Cross(initial,mutation,Cr)\n",
    "    chosen = Selection(Fobj6,initial,crossed,\"min\")\n",
    "    minimum, batch = Best(Fobj6, initial, \"min\")\n",
    "    IJulia.clear_output(true)\n",
    "    println(\"Iter: $i, value: $minimum, error: $(abs(minimum - value))\")\n",
    "    i = i+1\n",
    "    if abs(minimum - value) <= error\n",
    "        return minimum, batch\n",
    "        break\n",
    "    end\n",
    "end"
   ]
  },
  {
   "cell_type": "markdown",
   "id": "20a67b3c",
   "metadata": {},
   "source": [
    "Valor de $0$ con error de $0$"
   ]
  },
  {
   "cell_type": "markdown",
   "id": "19d50c54",
   "metadata": {},
   "source": [
    "# Shubert Function"
   ]
  },
  {
   "cell_type": "code",
   "execution_count": 11,
   "id": "9c3a35c9",
   "metadata": {},
   "outputs": [
    {
     "data": {
      "text/plain": [
       "Fobj7 (generic function with 1 method)"
      ]
     },
     "execution_count": 11,
     "metadata": {},
     "output_type": "execute_result"
    }
   ],
   "source": [
    "function Fobj7(X)\n",
    "    A = 1:5\n",
    "    B = 2:6\n",
    "    C = (sum(@.A*cos(B*X[1]+A)))*(sum(@.A*cos(B*X[2]+A)))\n",
    "    return C\n",
    "end"
   ]
  },
  {
   "cell_type": "code",
   "execution_count": 10,
   "id": "360c34cc",
   "metadata": {},
   "outputs": [
    {
     "data": {
      "text/plain": [
       "0.3"
      ]
     },
     "execution_count": 10,
     "metadata": {},
     "output_type": "execute_result"
    }
   ],
   "source": [
    "batch_size = 1000\n",
    "\n",
    "D = 2\n",
    "\n",
    "bL = -10 .*ones(D)\n",
    "bU = 10 .*ones(D)\n",
    "\n",
    "value = -186.7309088310\n",
    "error = 0.00001\n",
    "\n",
    "F = 1.5\n",
    "Cr = 0.3"
   ]
  },
  {
   "cell_type": "code",
   "execution_count": 12,
   "id": "b11dd8e1",
   "metadata": {},
   "outputs": [
    {
     "name": "stdout",
     "output_type": "stream",
     "text": [
      "Iter: 263, value: -186.73090595794514, error: 2.87305485358047e-6\n"
     ]
    },
    {
     "data": {
      "text/plain": [
       "(-186.73090595794514, [-1.4251, -7.08349])"
      ]
     },
     "execution_count": 12,
     "metadata": {},
     "output_type": "execute_result"
    }
   ],
   "source": [
    "initial = X0(batch_size, bL, bU)\n",
    "i = 1\n",
    "while true\n",
    "    mutation = Vmut(initial,F,bL,bU,\"d\")\n",
    "    crossed = Cross(initial,mutation,Cr)\n",
    "    chosen = Selection(Fobj7,initial,crossed,\"min\")\n",
    "    minimum, batch = Best(Fobj7, initial, \"min\")\n",
    "    IJulia.clear_output(true)\n",
    "    println(\"Iter: $i, value: $minimum, error: $(abs(minimum - value))\")\n",
    "    i = i+1\n",
    "    if abs(minimum - value) <= error\n",
    "        return minimum, batch\n",
    "        break\n",
    "    end\n",
    "end"
   ]
  },
  {
   "cell_type": "markdown",
   "id": "e0a781ed",
   "metadata": {},
   "source": [
    "Valor de $-186.73090595794514$ con error de $2.87305485358047 \\times 10^{-6}$"
   ]
  },
  {
   "cell_type": "markdown",
   "id": "f3d6f266",
   "metadata": {},
   "source": [
    "# Sinusoidal problem"
   ]
  },
  {
   "cell_type": "code",
   "execution_count": 13,
   "id": "33bd910d",
   "metadata": {},
   "outputs": [
    {
     "data": {
      "text/plain": [
       "Fobj8 (generic function with 1 method)"
      ]
     },
     "execution_count": 13,
     "metadata": {},
     "output_type": "execute_result"
    }
   ],
   "source": [
    "function Fobj8(X)\n",
    "    A=2.5\n",
    "    B=5\n",
    "    z=30\n",
    "    r1=1\n",
    "    r2=1\n",
    "    for i in 1:length(X)\n",
    "        r1 = r1*sin(X[i]-z)\n",
    "        r2 = r2*sin(B*(X[i]-z))\n",
    "    end\n",
    "    return -A * r1 - r2\n",
    "end"
   ]
  },
  {
   "cell_type": "code",
   "execution_count": 14,
   "id": "7b9804bb",
   "metadata": {},
   "outputs": [
    {
     "data": {
      "text/plain": [
       "0.3"
      ]
     },
     "execution_count": 14,
     "metadata": {},
     "output_type": "execute_result"
    }
   ],
   "source": [
    "batch_size = 1000\n",
    "\n",
    "D = 2\n",
    "\n",
    "bL = 0 .*ones(D)\n",
    "bU = 180 .*ones(D)\n",
    "\n",
    "value = -(2.5 + 1)\n",
    "error = 0.01\n",
    "\n",
    "F = 1.5\n",
    "Cr = 0.3"
   ]
  },
  {
   "cell_type": "code",
   "execution_count": 15,
   "id": "541610b8",
   "metadata": {},
   "outputs": [
    {
     "name": "stdout",
     "output_type": "stream",
     "text": [
      "Iter: 10, value: -3.499374523647619, error: 0.0006254763523809714\n"
     ]
    },
    {
     "data": {
      "text/plain": [
       "(-3.499374523647619, [169.796, 144.673])"
      ]
     },
     "execution_count": 15,
     "metadata": {},
     "output_type": "execute_result"
    }
   ],
   "source": [
    "initial = X0(batch_size, bL, bU)\n",
    "i = 1\n",
    "while true\n",
    "    mutation = Vmut(initial,F,bL,bU,\"d\")\n",
    "    crossed = Cross(initial,mutation,Cr)\n",
    "    chosen = Selection(Fobj8,initial,crossed,\"min\")\n",
    "    minimum, batch = Best(Fobj8, initial, \"min\")\n",
    "    IJulia.clear_output(true)\n",
    "    println(\"Iter: $i, value: $minimum, error: $(abs(minimum - value))\")\n",
    "    i = i+1\n",
    "    if abs(minimum - value) <= error\n",
    "        return minimum, batch\n",
    "        break\n",
    "    end\n",
    "end"
   ]
  },
  {
   "cell_type": "markdown",
   "id": "c20e7b00",
   "metadata": {},
   "source": [
    "Valor de $-3.499374523647619$ con error de $0.0006254763523809714$"
   ]
  },
  {
   "cell_type": "markdown",
   "id": "b0c92ce6",
   "metadata": {},
   "source": [
    "# Sphere function"
   ]
  },
  {
   "cell_type": "code",
   "execution_count": 16,
   "id": "44d3c778",
   "metadata": {},
   "outputs": [
    {
     "data": {
      "text/plain": [
       "Fobj9 (generic function with 1 method)"
      ]
     },
     "execution_count": 16,
     "metadata": {},
     "output_type": "execute_result"
    }
   ],
   "source": [
    "function Fobj9(X)\n",
    "    return X'*X\n",
    "end"
   ]
  },
  {
   "cell_type": "code",
   "execution_count": 17,
   "id": "f9164868",
   "metadata": {},
   "outputs": [
    {
     "data": {
      "text/plain": [
       "0.3"
      ]
     },
     "execution_count": 17,
     "metadata": {},
     "output_type": "execute_result"
    }
   ],
   "source": [
    "batch_size = 1000\n",
    "\n",
    "D = 2\n",
    "\n",
    "bL = -5.12 .*ones(D)\n",
    "bU = 5.12 .*ones(D)\n",
    "\n",
    "value = 0\n",
    "error = 0.00001\n",
    "\n",
    "F = 1.5\n",
    "Cr = 0.3"
   ]
  },
  {
   "cell_type": "code",
   "execution_count": 18,
   "id": "16259bed",
   "metadata": {},
   "outputs": [
    {
     "name": "stdout",
     "output_type": "stream",
     "text": [
      "Iter: 20, value: 1.181687084986292e-6, error: 1.181687084986292e-6\n"
     ]
    },
    {
     "data": {
      "text/plain": [
       "(1.181687084986292e-6, [-0.000883779, -0.000632948])"
      ]
     },
     "execution_count": 18,
     "metadata": {},
     "output_type": "execute_result"
    }
   ],
   "source": [
    "initial = X0(batch_size, bL, bU)\n",
    "i = 1\n",
    "while true\n",
    "    mutation = Vmut(initial,F,bL,bU,\"d\")\n",
    "    crossed = Cross(initial,mutation,Cr)\n",
    "    chosen = Selection(Fobj9,initial,crossed,\"min\")\n",
    "    minimum, batch = Best(Fobj9, initial, \"min\")\n",
    "    IJulia.clear_output(true)\n",
    "    println(\"Iter: $i, value: $minimum, error: $(abs(minimum - value))\")\n",
    "    i = i+1\n",
    "    if abs(minimum - value) <= error\n",
    "        return minimum, batch\n",
    "        break\n",
    "    end\n",
    "end"
   ]
  },
  {
   "cell_type": "markdown",
   "id": "906020aa",
   "metadata": {},
   "source": [
    "Valor de $1.181687084986292 \\times 10^{-6}$ con error de $1.181687084986292 \\times 10^{-6}$"
   ]
  },
  {
   "cell_type": "markdown",
   "id": "8a90bae5",
   "metadata": {},
   "source": [
    "# Zakharov function"
   ]
  },
  {
   "cell_type": "code",
   "execution_count": 19,
   "id": "bef9140e",
   "metadata": {},
   "outputs": [
    {
     "data": {
      "text/plain": [
       "Fobj10 (generic function with 1 method)"
      ]
     },
     "execution_count": 19,
     "metadata": {},
     "output_type": "execute_result"
    }
   ],
   "source": [
    "function Fobj10(X)\n",
    "    n = 1:length(X)\n",
    "    A = sum(0.5.*n.*X)\n",
    "    return X'*X + A^2 + A^4\n",
    "end"
   ]
  },
  {
   "cell_type": "code",
   "execution_count": 20,
   "id": "ad75ff1c",
   "metadata": {},
   "outputs": [
    {
     "data": {
      "text/plain": [
       "0.3"
      ]
     },
     "execution_count": 20,
     "metadata": {},
     "output_type": "execute_result"
    }
   ],
   "source": [
    "batch_size = 1000\n",
    "\n",
    "D = 2\n",
    "\n",
    "bL = -5 .*ones(D)\n",
    "bU = 10 .*ones(D)\n",
    "\n",
    "value = 0\n",
    "error = 0.00001\n",
    "\n",
    "F = 1.5\n",
    "Cr = 0.3"
   ]
  },
  {
   "cell_type": "code",
   "execution_count": 21,
   "id": "db2466ac",
   "metadata": {},
   "outputs": [
    {
     "name": "stdout",
     "output_type": "stream",
     "text": [
      "Iter: 20, value: 7.127470279747377e-6, error: 7.127470279747377e-6\n"
     ]
    },
    {
     "data": {
      "text/plain": [
       "(7.127470279747377e-6, [0.00126572, 0.00131531])"
      ]
     },
     "execution_count": 21,
     "metadata": {},
     "output_type": "execute_result"
    }
   ],
   "source": [
    "initial = X0(batch_size, bL, bU)\n",
    "i = 1\n",
    "while true\n",
    "    mutation = Vmut(initial,F,bL,bU,\"d\")\n",
    "    crossed = Cross(initial,mutation,Cr)\n",
    "    chosen = Selection(Fobj10,initial,crossed,\"min\")\n",
    "    minimum, batch = Best(Fobj10, initial, \"min\")\n",
    "    IJulia.clear_output(true)\n",
    "    println(\"Iter: $i, value: $minimum, error: $(abs(minimum - value))\")\n",
    "    i = i+1\n",
    "    if abs(minimum - value) <= error\n",
    "        return minimum, batch\n",
    "        break\n",
    "    end\n",
    "end"
   ]
  },
  {
   "cell_type": "markdown",
   "id": "dd4e5ba9",
   "metadata": {},
   "source": [
    "Valor de $7.127470279747377 \\times 10^{-6}$ con error de $7.127470279747377 \\times 10^{-6}$"
   ]
  }
 ],
 "metadata": {
  "kernelspec": {
   "display_name": "Julia 1.0.5",
   "language": "julia",
   "name": "julia-1.0"
  },
  "language_info": {
   "file_extension": ".jl",
   "mimetype": "application/julia",
   "name": "julia",
   "version": "1.0.5"
  }
 },
 "nbformat": 4,
 "nbformat_minor": 5
}
